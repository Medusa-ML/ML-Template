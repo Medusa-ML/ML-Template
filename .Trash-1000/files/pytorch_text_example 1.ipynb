{
 "cells": [
  {
   "cell_type": "markdown",
   "id": "3b5f3ccc-6b5f-4d40-bb24-d71a0b1e3ddc",
   "metadata": {},
   "source": [
    "# if it is not installed in the dockerfile, you'll need to install torchtext via the line below then restart the kernel"
   ]
  },
  {
   "cell_type": "code",
   "execution_count": null,
   "id": "206e01c8-87d3-40bf-ae63-f38cd5cf0584",
   "metadata": {},
   "outputs": [],
   "source": [
    "! pip install torchtext"
   ]
  },
  {
   "cell_type": "code",
   "execution_count": 1,
   "id": "5b53e0a0-3f16-45ad-b0df-aa464e59ec4b",
   "metadata": {},
   "outputs": [],
   "source": [
    "from collections import Counter\n",
    "\n",
    "from torchtext.data.utils import get_tokenizer\n",
    "from torchtext.vocab import Vocab\n",
    "\n",
    "import torch\n",
    "import torch.nn as nn\n",
    "import torch.nn.functional as F"
   ]
  },
  {
   "cell_type": "markdown",
   "id": "f39d5813-c054-41b8-a711-cf4f104e30af",
   "metadata": {},
   "source": [
    "# Create Dataset"
   ]
  },
  {
   "cell_type": "code",
   "execution_count": 2,
   "id": "07251c01-235c-4423-a7d4-67356c134d69",
   "metadata": {},
   "outputs": [],
   "source": [
    "# Sample statements\n",
    "republican_statements = [\n",
    "    \"We need stronger border security.\",\n",
    "    \"Lower taxes can stimulate the economy.\",\n",
    "    \"It's essential to protect gun rights.\",\n",
    "    \"Government regulations often hinder businesses.\",\n",
    "    \"Healthcare should be market-driven.\"\n",
    "]\n",
    "\n",
    "democrat_statements = [\n",
    "    \"Climate change actions must be a priority.\",\n",
    "    \"We need universal healthcare coverage.\",\n",
    "    \"Raising the minimum wage is essential.\",\n",
    "    \"Government should play a role in reducing income inequality.\",\n",
    "    \"Support for public education should be increased.\"\n",
    "]\n",
    "\n",
    "# Labels: 0 for Republican, 1 for Democrat\n",
    "statements = republican_statements + democrat_statements\n",
    "labels = [0] * 5 + [1] * 5"
   ]
  },
  {
   "cell_type": "markdown",
   "id": "6abf7527-f082-46a5-b9a1-da6db3fa38df",
   "metadata": {},
   "source": [
    "# Preprocess Text"
   ]
  },
  {
   "cell_type": "code",
   "execution_count": 3,
   "id": "8969222d-4b11-410f-bf47-59c408b754c6",
   "metadata": {},
   "outputs": [],
   "source": [
    "# Tokenization\n",
    "tokenizer = get_tokenizer('basic_english')\n",
    "tokenized_statements = [tokenizer(statement) for statement in statements]\n",
    "\n",
    "# Building vocabulary\n",
    "counter = Counter()\n",
    "for statement in tokenized_statements:\n",
    "    counter.update(statement)\n",
    "vocab = Vocab(counter)\n",
    "\n",
    "# Numericalizing tokens\n",
    "text_pipeline = lambda x: [vocab[token] for token in tokenizer(x)]"
   ]
  },
  {
   "cell_type": "markdown",
   "id": "3f6d2279-42ff-4d8c-a85b-40bb2d70c06d",
   "metadata": {},
   "source": [
    "# Model Definition"
   ]
  },
  {
   "cell_type": "code",
   "execution_count": 4,
   "id": "e912f5ea-48af-49a1-82ac-906f052c1046",
   "metadata": {},
   "outputs": [],
   "source": [
    "class TextClassifier(nn.Module):\n",
    "    def __init__(self, vocab_size, embed_dim, num_class, hidden_dim, dropout_rate):\n",
    "        super(TextClassifier, self).__init__()\n",
    "        self.embedding = nn.Embedding(vocab_size, embed_dim)\n",
    "        # Additional hidden layers\n",
    "        self.fc1 = nn.Linear(embed_dim, hidden_dim)\n",
    "        self.dropout = nn.Dropout(dropout_rate)\n",
    "        self.fc2 = nn.Linear(hidden_dim, hidden_dim)\n",
    "        self.fc3 = nn.Linear(hidden_dim, num_class)\n",
    "\n",
    "    def forward(self, text):\n",
    "        embedded = self.embedding(text).mean(0)\n",
    "        x = F.relu(self.fc1(embedded))\n",
    "        x = self.dropout(x)\n",
    "        x = F.relu(self.fc2(x))\n",
    "        return self.fc3(x)\n",
    "\n",
    "# Parameters\n",
    "vocab_size = len(vocab)\n",
    "embed_dim = 64\n",
    "num_class = 2\n",
    "hidden_dim = 128  # Example size of hidden dimension\n",
    "dropout_rate = 0.2  # Example dropout rate\n",
    "\n",
    "# Model instance\n",
    "model = TextClassifier(vocab_size, embed_dim, num_class, hidden_dim, dropout_rate)\n",
    "\n",
    "# Loss and optimizer\n",
    "criterion = nn.CrossEntropyLoss()\n",
    "optimizer = torch.optim.SGD(model.parameters(), lr=0.001)"
   ]
  },
  {
   "cell_type": "markdown",
   "id": "996e89f4-21b4-4856-b834-c34bec15d861",
   "metadata": {},
   "source": [
    "# Train the Model"
   ]
  },
  {
   "cell_type": "code",
   "execution_count": 6,
   "id": "b3acd949-8cdc-4f43-8cf7-6efa78787329",
   "metadata": {
    "scrolled": true
   },
   "outputs": [
    {
     "name": "stdout",
     "output_type": "stream",
     "text": [
      "Epoch 0, Loss: 0.7008172452449799\n",
      "Epoch 1, Loss: 0.7018247842788696\n",
      "Epoch 2, Loss: 0.6961971521377563\n",
      "Epoch 3, Loss: 0.6932121634483337\n",
      "Epoch 4, Loss: 0.7003879606723785\n",
      "Epoch 5, Loss: 0.6935909330844879\n",
      "Epoch 6, Loss: 0.696438866853714\n",
      "Epoch 7, Loss: 0.6941162049770355\n",
      "Epoch 8, Loss: 0.7073514223098755\n",
      "Epoch 9, Loss: 0.6941845178604126\n"
     ]
    }
   ],
   "source": [
    "# Training loop\n",
    "for epoch in range(10):\n",
    "    total_loss = 0\n",
    "    for statement, label in zip(statements, labels):\n",
    "        # Preparing data\n",
    "        text = torch.tensor(text_pipeline(statement), dtype=torch.int64)\n",
    "        label = torch.tensor([label], dtype=torch.int64)\n",
    "        \n",
    "        # Forward pass\n",
    "        optimizer.zero_grad()\n",
    "        output = model(text)\n",
    "        loss = criterion(output.unsqueeze(0), label)\n",
    "\n",
    "        # Backward and optimize\n",
    "        loss.backward()\n",
    "        optimizer.step()\n",
    "\n",
    "        total_loss += loss.item()\n",
    "    print(f'Epoch {epoch}, Loss: {total_loss/len(statements)}')"
   ]
  },
  {
   "cell_type": "markdown",
   "id": "df2f66e1-dd8d-46bb-800b-ab3b1ffc0b25",
   "metadata": {},
   "source": [
    "# Test The Model"
   ]
  },
  {
   "cell_type": "code",
   "execution_count": 7,
   "id": "db1b02c0-6d50-45bf-ba73-af98881b52e9",
   "metadata": {},
   "outputs": [],
   "source": [
    "def predict(statement, model, vocab, text_pipeline):\n",
    "    with torch.no_grad():\n",
    "        text = torch.tensor(text_pipeline(statement), dtype=torch.int64)\n",
    "        output = model(text)\n",
    "        print(\"Output tensor shape:\", output.shape)  # Add this line to check the shape of the output tensor\n",
    "        if len(output.shape) == 1:  # If output is 1-dimensional\n",
    "            return output.argmax(0).item()  # Use argmax(0)\n",
    "        else:\n",
    "            return output.argmax(1).item()"
   ]
  },
  {
   "cell_type": "code",
   "execution_count": 8,
   "id": "9f9b579b-5d05-482d-9e5b-a28832e10a18",
   "metadata": {},
   "outputs": [
    {
     "name": "stdout",
     "output_type": "stream",
     "text": [
      "Output tensor shape: torch.Size([2])\n",
      "Prediction: Democrat\n"
     ]
    }
   ],
   "source": [
    "# Test\n",
    "new_statement = \"Government intervention is necessary for fair markets.\"\n",
    "print(\"Prediction:\", \"Democrat\" if predict(new_statement, model, vocab, text_pipeline) == 1 else \"Republican\")\n"
   ]
  }
 ],
 "metadata": {
  "kernelspec": {
   "display_name": "Python 3 (ipykernel)",
   "language": "python",
   "name": "python3"
  },
  "language_info": {
   "codemirror_mode": {
    "name": "ipython",
    "version": 3
   },
   "file_extension": ".py",
   "mimetype": "text/x-python",
   "name": "python",
   "nbconvert_exporter": "python",
   "pygments_lexer": "ipython3",
   "version": "3.10.13"
  }
 },
 "nbformat": 4,
 "nbformat_minor": 5
}
