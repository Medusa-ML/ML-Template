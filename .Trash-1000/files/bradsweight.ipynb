{
 "cells": [
  {
   "cell_type": "code",
   "execution_count": 5,
   "id": "0da59e75-08c2-44eb-ab41-467c34ea2013",
   "metadata": {},
   "outputs": [],
   "source": [
    "brads_height=70\n",
    "brads_weight=170"
   ]
  },
  {
   "cell_type": "code",
   "execution_count": 24,
   "id": "53923236-3feb-4ea5-b089-a26519573947",
   "metadata": {},
   "outputs": [],
   "source": [
    "def model(height):\n",
    "    return height * 2.4"
   ]
  },
  {
   "cell_type": "code",
   "execution_count": 25,
   "id": "ab07b67b-6416-4012-9652-af2edd5d9a12",
   "metadata": {},
   "outputs": [
    {
     "name": "stdout",
     "output_type": "stream",
     "text": [
      "2.0\n"
     ]
    }
   ],
   "source": [
    "predicted_weight = model(brads_height)\n",
    "actual_weight = 170\n",
    "\n",
    "MSE = abs(predicted_weight - actual_weight)\n",
    "print(MSE)"
   ]
  },
  {
   "cell_type": "code",
   "execution_count": 26,
   "id": "ec66312e-74c5-4c92-8e0e-7d8360369916",
   "metadata": {},
   "outputs": [
    {
     "name": "stdout",
     "output_type": "stream",
     "text": [
      "168.0\n"
     ]
    }
   ],
   "source": [
    "ben_pred = model(70)\n",
    "print(ben_pred)"
   ]
  },
  {
   "cell_type": "code",
   "execution_count": null,
   "id": "2aed0953-3224-4346-a4b0-86a6b19b060a",
   "metadata": {},
   "outputs": [],
   "source": []
  }
 ],
 "metadata": {
  "kernelspec": {
   "display_name": "Python 3 (ipykernel)",
   "language": "python",
   "name": "python3"
  },
  "language_info": {
   "codemirror_mode": {
    "name": "ipython",
    "version": 3
   },
   "file_extension": ".py",
   "mimetype": "text/x-python",
   "name": "python",
   "nbconvert_exporter": "python",
   "pygments_lexer": "ipython3",
   "version": "3.10.13"
  }
 },
 "nbformat": 4,
 "nbformat_minor": 5
}
